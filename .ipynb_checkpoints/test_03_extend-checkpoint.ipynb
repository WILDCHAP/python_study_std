{
 "cells": [
  {
   "cell_type": "code",
   "execution_count": 18,
   "metadata": {},
   "outputs": [
    {
     "name": "stdout",
     "output_type": "stream",
     "text": [
      "许三多 没有枪。。\n",
      "许三多枪已装配！类型AK47\n",
      "AK47 biu 29\n"
     ]
    }
   ],
   "source": [
    "class Gun:\n",
    "    def __init__(self, model):\n",
    "        self.model = model\n",
    "        self.bullet_count = 0\n",
    "    def add_bullet(self,count):\n",
    "        self.bullet_count += count\n",
    "    def shoot(self):\n",
    "        if self.bullet_count > 0:\n",
    "            print(\"%s biu %d\" % (self.model, self.bullet_count-1))\n",
    "            self.bullet_count -= 1\n",
    "        else:\n",
    "            print(\"没有子弹\")\n",
    "            \n",
    "class Soldier:\n",
    "    def __init__(self, name):\n",
    "        self.name = name\n",
    "        self.gun = None\n",
    "    def add_gun(self, gun):\n",
    "        self.gun = gun\n",
    "        print(\"%s枪已装配！类型%s\" % (self.name, self.gun.model))\n",
    "    def add_bullet(self, count):\n",
    "        if self.gun is None:\n",
    "            print(\"%s 没有枪。。\" % self.name)\n",
    "        else:\n",
    "            self.gun.add_bullet(count)\n",
    "    def shoot(self):\n",
    "        if self.gun is None:\n",
    "            print(\"%s 没有枪。。\" % self.name)\n",
    "        else:\n",
    "            self.gun.shoot()\n",
    "            \n",
    "ak47 = Gun(\"AK47\")\n",
    "# ak47.shoot()\n",
    "# ak47.add_bullet(50)\n",
    "# ak47.shoot()\n",
    "xsd = Soldier(\"许三多\")\n",
    "xsd.shoot()\n",
    "xsd.add_gun(ak47)\n",
    "xsd.add_bullet(30)\n",
    "xsd.shoot()"
   ]
  },
  {
   "cell_type": "code",
   "execution_count": null,
   "metadata": {},
   "outputs": [],
   "source": []
  }
 ],
 "metadata": {
  "kernelspec": {
   "display_name": "Python 3",
   "language": "python",
   "name": "python3"
  },
  "language_info": {
   "codemirror_mode": {
    "name": "ipython",
    "version": 3
   },
   "file_extension": ".py",
   "mimetype": "text/x-python",
   "name": "python",
   "nbconvert_exporter": "python",
   "pygments_lexer": "ipython3",
   "version": "3.7.0"
  }
 },
 "nbformat": 4,
 "nbformat_minor": 4
}
